{
 "cells": [
  {
   "cell_type": "code",
   "execution_count": 2,
   "metadata": {
    "collapsed": true
   },
   "outputs": [],
   "source": [
    "import pandas as pd\n",
    "from pulp import *"
   ]
  },
  {
   "cell_type": "markdown",
   "metadata": {},
   "source": [
    "#### Nutrition Facts"
   ]
  },
  {
   "cell_type": "code",
   "execution_count": 27,
   "metadata": {},
   "outputs": [
    {
     "data": {
      "text/html": [
       "<div>\n",
       "<style scoped>\n",
       "    .dataframe tbody tr th:only-of-type {\n",
       "        vertical-align: middle;\n",
       "    }\n",
       "\n",
       "    .dataframe tbody tr th {\n",
       "        vertical-align: top;\n",
       "    }\n",
       "\n",
       "    .dataframe thead th {\n",
       "        text-align: right;\n",
       "    }\n",
       "</style>\n",
       "<table border=\"1\" class=\"dataframe\">\n",
       "  <thead>\n",
       "    <tr style=\"text-align: right;\">\n",
       "      <th></th>\n",
       "      <th>Protein</th>\n",
       "      <th>Fat</th>\n",
       "      <th>Fibre</th>\n",
       "      <th>Salt</th>\n",
       "      <th>Sugar</th>\n",
       "    </tr>\n",
       "    <tr>\n",
       "      <th>Ingredients</th>\n",
       "      <th></th>\n",
       "      <th></th>\n",
       "      <th></th>\n",
       "      <th></th>\n",
       "      <th></th>\n",
       "    </tr>\n",
       "  </thead>\n",
       "  <tbody>\n",
       "    <tr>\n",
       "      <th>Chicken</th>\n",
       "      <td>0.100000</td>\n",
       "      <td>0.080000</td>\n",
       "      <td>0.001000</td>\n",
       "      <td>0.002</td>\n",
       "      <td>0.000</td>\n",
       "    </tr>\n",
       "    <tr>\n",
       "      <th>Beef</th>\n",
       "      <td>0.200000</td>\n",
       "      <td>0.100000</td>\n",
       "      <td>0.005000</td>\n",
       "      <td>0.005</td>\n",
       "      <td>0.000</td>\n",
       "    </tr>\n",
       "    <tr>\n",
       "      <th>Mutton</th>\n",
       "      <td>0.150000</td>\n",
       "      <td>0.110000</td>\n",
       "      <td>0.003000</td>\n",
       "      <td>0.007</td>\n",
       "      <td>0.000</td>\n",
       "    </tr>\n",
       "    <tr>\n",
       "      <th>Rice</th>\n",
       "      <td>0.000000</td>\n",
       "      <td>0.010000</td>\n",
       "      <td>0.100000</td>\n",
       "      <td>0.002</td>\n",
       "      <td>0.000</td>\n",
       "    </tr>\n",
       "    <tr>\n",
       "      <th>Wheat bran</th>\n",
       "      <td>0.040000</td>\n",
       "      <td>0.010000</td>\n",
       "      <td>0.150000</td>\n",
       "      <td>0.008</td>\n",
       "      <td>0.000</td>\n",
       "    </tr>\n",
       "    <tr>\n",
       "      <th>Corn</th>\n",
       "      <td>0.032927</td>\n",
       "      <td>0.012805</td>\n",
       "      <td>0.028049</td>\n",
       "      <td>0.000</td>\n",
       "      <td>0.045</td>\n",
       "    </tr>\n",
       "    <tr>\n",
       "      <th>Peanuts</th>\n",
       "      <td>0.258000</td>\n",
       "      <td>0.492000</td>\n",
       "      <td>0.085000</td>\n",
       "      <td>0.001</td>\n",
       "      <td>0.047</td>\n",
       "    </tr>\n",
       "  </tbody>\n",
       "</table>\n",
       "</div>"
      ],
      "text/plain": [
       "              Protein       Fat     Fibre   Salt  Sugar\n",
       "Ingredients                                            \n",
       "Chicken      0.100000  0.080000  0.001000  0.002  0.000\n",
       "Beef         0.200000  0.100000  0.005000  0.005  0.000\n",
       "Mutton       0.150000  0.110000  0.003000  0.007  0.000\n",
       "Rice         0.000000  0.010000  0.100000  0.002  0.000\n",
       "Wheat bran   0.040000  0.010000  0.150000  0.008  0.000\n",
       "Corn         0.032927  0.012805  0.028049  0.000  0.045\n",
       "Peanuts      0.258000  0.492000  0.085000  0.001  0.047"
      ]
     },
     "execution_count": 27,
     "metadata": {},
     "output_type": "execute_result"
    }
   ],
   "source": [
    "# Import Costs\n",
    "nutrition = pd.read_excel('Nutrition Facts.xlsx', index_col = 0)\n",
    "nutrition"
   ]
  },
  {
   "cell_type": "markdown",
   "metadata": {},
   "source": [
    "#### Ingredients Costs"
   ]
  },
  {
   "cell_type": "code",
   "execution_count": 29,
   "metadata": {},
   "outputs": [
    {
     "data": {
      "text/html": [
       "<div>\n",
       "<style scoped>\n",
       "    .dataframe tbody tr th:only-of-type {\n",
       "        vertical-align: middle;\n",
       "    }\n",
       "\n",
       "    .dataframe tbody tr th {\n",
       "        vertical-align: top;\n",
       "    }\n",
       "\n",
       "    .dataframe thead th {\n",
       "        text-align: right;\n",
       "    }\n",
       "</style>\n",
       "<table border=\"1\" class=\"dataframe\">\n",
       "  <thead>\n",
       "    <tr style=\"text-align: right;\">\n",
       "      <th></th>\n",
       "      <th>Ingredients</th>\n",
       "      <th>Costs</th>\n",
       "    </tr>\n",
       "  </thead>\n",
       "  <tbody>\n",
       "    <tr>\n",
       "      <th>0</th>\n",
       "      <td>Chicken</td>\n",
       "      <td>0.095</td>\n",
       "    </tr>\n",
       "    <tr>\n",
       "      <th>1</th>\n",
       "      <td>Beef</td>\n",
       "      <td>0.150</td>\n",
       "    </tr>\n",
       "    <tr>\n",
       "      <th>2</th>\n",
       "      <td>Mutton</td>\n",
       "      <td>0.100</td>\n",
       "    </tr>\n",
       "    <tr>\n",
       "      <th>3</th>\n",
       "      <td>Rice</td>\n",
       "      <td>0.002</td>\n",
       "    </tr>\n",
       "    <tr>\n",
       "      <th>4</th>\n",
       "      <td>Wheat bran</td>\n",
       "      <td>0.005</td>\n",
       "    </tr>\n",
       "    <tr>\n",
       "      <th>5</th>\n",
       "      <td>Corn</td>\n",
       "      <td>0.012</td>\n",
       "    </tr>\n",
       "    <tr>\n",
       "      <th>6</th>\n",
       "      <td>Peanuts</td>\n",
       "      <td>0.013</td>\n",
       "    </tr>\n",
       "  </tbody>\n",
       "</table>\n",
       "</div>"
      ],
      "text/plain": [
       "  Ingredients  Costs\n",
       "0     Chicken  0.095\n",
       "1        Beef  0.150\n",
       "2      Mutton  0.100\n",
       "3        Rice  0.002\n",
       "4  Wheat bran  0.005\n",
       "5        Corn  0.012\n",
       "6     Peanuts  0.013"
      ]
     },
     "execution_count": 29,
     "metadata": {},
     "output_type": "execute_result"
    }
   ],
   "source": [
    "# Import Costs\n",
    "costs = pd.read_excel('Costs.xlsx')\n",
    "dict_costs = dict(zip(costs['Ingredients'], costs['Costs']))\n",
    "costs"
   ]
  },
  {
   "cell_type": "markdown",
   "metadata": {},
   "source": [
    "#### Build your model"
   ]
  },
  {
   "cell_type": "code",
   "execution_count": 53,
   "metadata": {},
   "outputs": [
    {
     "name": "stdout",
     "output_type": "stream",
     "text": [
      "Cost per Bar = 11.08 $\n",
      "\n",
      "Status: Infeasible\n",
      "Qty_Beef = 71.27 g\n",
      "Qty_Chicken = 0.0 g\n",
      "Qty_Corn = 0.0 g\n",
      "Qty_Mutton = 0.0 g\n",
      "Qty_Peanuts = 30.26 g\n",
      "Qty_Rice = 0.0 g\n",
      "Qty_Wheat_bran = -1.53 g\n"
     ]
    },
    {
     "name": "stderr",
     "output_type": "stream",
     "text": [
      "C:\\Users\\Samir\\Anaconda3\\lib\\site-packages\\pulp\\pulp.py:1199: UserWarning: Spaces are not permitted in the name. Converted to '_'\n",
      "  warnings.warn(\"Spaces are not permitted in the name. Converted to '_'\")\n"
     ]
    }
   ],
   "source": [
    "# Variables\n",
    "variables = ['Chicken', 'Beef', 'Mutton', 'Rice', 'Wheat bran', 'Corn', 'Peanuts']\n",
    "\n",
    "# Initialize Class\n",
    "model = LpProblem(\"Optimize your Protein Bar\", LpMinimize)\n",
    "\n",
    "# Create Decision Variables\n",
    "x = LpVariable.dicts(\"Qty\", [j for j in variables],\n",
    "                     lowBound=0, upBound=None, cat='continuous')\n",
    "\n",
    "# Define Objective Function\n",
    "model += (lpSum([dict_costs[i] * x[i] for i in variables]))\n",
    "\n",
    "\n",
    "# Add Constraints\n",
    "model += (lpSum([x[i] for i in variables])) == 100\n",
    "model += (lpSum([x[i] * nutrition.loc[i, 'Protein'] for i in variables])) >= 22\n",
    "model += (lpSum([x[i] * nutrition.loc[i, 'Fat'] for i in variables])) <= 22\n",
    "model += (lpSum([x[i] * nutrition.loc[i, 'Fibre'] for i in variables])) >= 6\n",
    "model += (lpSum([x[i] * nutrition.loc[i, 'Salt'] for i in variables])) <= 3\n",
    "model += (lpSum([x[i] * nutrition.loc[i, 'Sugar'] for i in variables])) <= 20\n",
    "                                                   \n",
    "                                                       \n",
    "# Solve Model\n",
    "model.solve()\n",
    "print(\"Cost per Bar = {:,} $\".format(round(value(model.objective), 2)))\n",
    "print('\\n' + \"Status: {}\".format(LpStatus[model.status]))\n",
    "for v in model.variables():\n",
    "    print(v.name, \"=\", round(v.varValue,2), 'g')"
   ]
  }
 ],
 "metadata": {
  "kernelspec": {
   "display_name": "Python 3",
   "language": "python",
   "name": "python3"
  },
  "language_info": {
   "codemirror_mode": {
    "name": "ipython",
    "version": 3
   },
   "file_extension": ".py",
   "mimetype": "text/x-python",
   "name": "python",
   "nbconvert_exporter": "python",
   "pygments_lexer": "ipython3",
   "version": "3.6.1"
  }
 },
 "nbformat": 4,
 "nbformat_minor": 2
}
